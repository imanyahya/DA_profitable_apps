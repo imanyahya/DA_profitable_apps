{
 "cells": [
  {
   "cell_type": "markdown",
   "id": "a45b9b8d",
   "metadata": {},
   "source": [
    "# Profitable Apps in Google Play and App Store\n",
    "_First chapter of my journey to learn Data Analytics and Data Science_\n",
    "\n",
    "## 1. Background\n",
    "Our company plans to develop a new application for mobile devices. We aim to build free app and rely on in-app ads for the main source of revenue. Since our revenue will be highly influenced by the number of users, prior to determining which app we need to develop, we would like to analyze the apps profile which more likely attract more users.\n",
    "\n",
    "As of September 2018, there were approximately 2 million iOS apps available on the App Store, and 2.1 million Android apps on Google Play. See chart below for comparison across 5 different marketplace for apps.\n",
    "\n",
    "![App statistics](py1m8_statista.png)\n",
    "\n",
    "Based on statistic above, we limit the scope of our analysis to only apps offered in two platform, android (Google Play) and iOS (App Store).\n"
   ]
  },
  {
   "cell_type": "markdown",
   "id": "ac63e7a3",
   "metadata": {},
   "source": [
    "## 2. Exploring the data  \n",
    "Collecting data for over four million apps requires a significant amount of time and money, so we'll try to analyze a sample of data instead. To avoid spending resources with collecting new data ourselves, we should first try to see whether we can find any relevant existing data at no cost. Luckily, these are two data sets that seem suitable for our purpose:\n",
    "- [Google Play dataset](https://www.kaggle.com/lava18/google-play-store-apps) containing approximately 10,000 Android apps, collected in August 2018, and\n",
    "- [Apps Store dataset](https://www.kaggle.com/ramamet4/app-store-apple-data-set-10k-apps) containing approximately 7,000 iOS apps, collected in July 2017\n",
    "\n",
    "First, let's open our datasets."
   ]
  },
  {
   "cell_type": "code",
   "execution_count": 1,
   "id": "55f2e897",
   "metadata": {},
   "outputs": [],
   "source": [
    "from csv import reader\n",
    "\n",
    "# This is the dataset for App Store\n",
    "opened_file = open('AppleStore.csv', encoding='utf8')\n",
    "read_file = reader(opened_file)\n",
    "ios = list(read_file)\n",
    "ios_header = ios[0]  # Extract the header row\n",
    "ios = ios[1:]        # ios dataset without header\n",
    "\n",
    "# This is the dataset for Google Play\n",
    "opened_file = open('googleplaystore.csv', encoding='utf8')\n",
    "read_file = reader(opened_file)\n",
    "android = list(read_file)\n",
    "android_header = android[0]  # Extract the header row\n",
    "android = android[1:]        # android dataset without header"
   ]
  },
  {
   "cell_type": "markdown",
   "id": "4f85a7de",
   "metadata": {},
   "source": [
    "Build a function so we can easily read and explore the data. A small preview from App Store dataset is shown."
   ]
  },
  {
   "cell_type": "code",
   "execution_count": 2,
   "id": "56187ba6",
   "metadata": {},
   "outputs": [
    {
     "name": "stdout",
     "output_type": "stream",
     "text": [
      "['id', 'track_name', 'size_bytes', 'currency', 'price', 'rating_count_tot', 'rating_count_ver', 'user_rating', 'user_rating_ver', 'ver', 'cont_rating', 'prime_genre', 'sup_devices.num', 'ipadSc_urls.num', 'lang.num', 'vpp_lic']\n",
      "\n",
      "\n",
      "['284882215', 'Facebook', '389879808', 'USD', '0.0', '2974676', '212', '3.5', '3.5', '95.0', '4+', 'Social Networking', '37', '1', '29', '1']\n",
      "\n",
      "\n",
      "['389801252', 'Instagram', '113954816', 'USD', '0.0', '2161558', '1289', '4.5', '4.0', '10.23', '12+', 'Photo & Video', '37', '0', '29', '1']\n",
      "\n",
      "\n",
      "Number of rows: 7197\n",
      "Number of columns: 16\n"
     ]
    }
   ],
   "source": [
    "def explore_data(dataset, start, end, rows_and_columns=False):\n",
    "    dataset_slice = dataset[start:end]\n",
    "    \n",
    "    for row in dataset_slice:\n",
    "        print(row)\n",
    "        print('\\n') # adds a new (empty) line after each row\n",
    "        \n",
    "    if rows_and_columns:\n",
    "        print('Number of rows:', len(dataset))\n",
    "        print('Number of columns:', len(dataset[0]))\n",
    "        \n",
    "print(ios_header)\n",
    "print('\\n')\n",
    "explore_data(ios, 0, 2 ,True)"
   ]
  },
  {
   "cell_type": "markdown",
   "id": "2d733e61",
   "metadata": {},
   "source": [
    "From preview of App Store above, we have 7197 apps and 16 attributes for each app. We identified several attributes that may be useful for our analysis, such as: **track_name**, **price**, **rating_count_tot**, **user_rating**, and **prime_genre**.  \n",
    "\n",
    "Now, let's see what's on Google Play Store dataset."
   ]
  },
  {
   "cell_type": "code",
   "execution_count": 3,
   "id": "0b6c2ba9",
   "metadata": {},
   "outputs": [
    {
     "name": "stdout",
     "output_type": "stream",
     "text": [
      "['App', 'Category', 'Rating', 'Reviews', 'Size', 'Installs', 'Type', 'Price', 'Content Rating', 'Genres', 'Last Updated', 'Current Ver', 'Android Ver']\n",
      "\n",
      "\n",
      "['Photo Editor & Candy Camera & Grid & ScrapBook', 'ART_AND_DESIGN', '4.1', '159', '19M', '10,000+', 'Free', '0', 'Everyone', 'Art & Design', 'January 7, 2018', '1.0.0', '4.0.3 and up']\n",
      "\n",
      "\n",
      "['Coloring book moana', 'ART_AND_DESIGN', '3.9', '967', '14M', '500,000+', 'Free', '0', 'Everyone', 'Art & Design;Pretend Play', 'January 15, 2018', '2.0.0', '4.0.3 and up']\n",
      "\n",
      "\n",
      "Number of rows: 10841\n",
      "Number of columns: 13\n"
     ]
    }
   ],
   "source": [
    "print(android_header)\n",
    "print('\\n')\n",
    "explore_data(android, 0, 2, True)"
   ]
  },
  {
   "cell_type": "markdown",
   "id": "3c01132d",
   "metadata": {},
   "source": [
    "In Play Store, we have 10841 apps with 13 attributes each, not too different than App Store. And we determine that **App**, **Category**, **Rating**, **Reviews**, **Price**, and **Genres** will be useful for our analysis."
   ]
  },
  {
   "cell_type": "markdown",
   "id": "ba0ca28c",
   "metadata": {},
   "source": [
    "## 2. Cleaning the Data\n",
    "Before analyzing the data, we'll need to clean them first to ensure out datasets are free from incorrect, irrelevant, inconsistent, and duplicates of information. This section will be broken down into several subsections. \n",
    "\n",
    "### 2.1 Deleting wrong data\n",
    "\n",
    "Refer to the [one of the discussion](https://www.kaggle.com/lava18/google-play-store-apps/discussion/66015) on Google Play data set, there is a report of an error in row 10472. We have to confirm this error first:"
   ]
  },
  {
   "cell_type": "code",
   "execution_count": 4,
   "id": "1b381924",
   "metadata": {},
   "outputs": [
    {
     "name": "stdout",
     "output_type": "stream",
     "text": [
      "['App', 'Category', 'Rating', 'Reviews', 'Size', 'Installs', 'Type', 'Price', 'Content Rating', 'Genres', 'Last Updated', 'Current Ver', 'Android Ver'] \n",
      "\n",
      "Error occurs in row:  10472 \n",
      "\n",
      "Preview: \n",
      " ['Life Made WI-Fi Touchscreen Photo Frame', '1.9', '19', '3.0M', '1,000+', 'Free', '0', 'Everyone', '', 'February 11, 2018', '1.0.19', '4.0 and up']\n",
      "No error detected\n"
     ]
    }
   ],
   "source": [
    "print(android_header, '\\n')\n",
    "for row in android:\n",
    "    flag = 0\n",
    "    if len(row) != len(android_header):     # Comparing the length of each row with header row, to find a mismatch\n",
    "        print('Error occurs in row: ', android.index(row), '\\n')  # Return the row number where mismatch occurs\n",
    "        print('Preview:', '\\n', row)\n",
    "\n",
    "if flag == 0:\n",
    "    print('No error detected')"
   ]
  },
  {
   "cell_type": "markdown",
   "id": "45f5614d",
   "metadata": {},
   "source": [
    "Result above shows that there is indeed an error in row 10472, since the lenght of the row does not match the lenght of header.  After further investigation, it turns out the data is missing `Category` column, because the value is very unlikely to be `1.9`, this value is shifted from the adjacent column as a result of missing one column.  \n",
    "\n",
    "Therefore, we will delete this row:"
   ]
  },
  {
   "cell_type": "code",
   "execution_count": 5,
   "id": "c99fa291",
   "metadata": {},
   "outputs": [],
   "source": [
    "del android[10472] \n",
    "# Careful not to run this command more than one"
   ]
  },
  {
   "cell_type": "markdown",
   "id": "b88127ac",
   "metadata": {},
   "source": [
    "Let's apply similar process to check the App Store dataset."
   ]
  },
  {
   "cell_type": "code",
   "execution_count": 6,
   "id": "8d20aadb",
   "metadata": {},
   "outputs": [
    {
     "name": "stdout",
     "output_type": "stream",
     "text": [
      "No error detected\n"
     ]
    }
   ],
   "source": [
    "for row in ios:\n",
    "    flag = 0\n",
    "    if len(row) != len(ios_header):\n",
    "        print('Error occurs in row: ', ios.index(row), '\\n')\n",
    "        print('Preview:', '\\n', row)\n",
    "        flag = 1\n",
    "\n",
    "if flag == 0:\n",
    "    print('No error detected')"
   ]
  },
  {
   "cell_type": "markdown",
   "id": "cbbd6b71",
   "metadata": {},
   "source": [
    "We did not find any error on the App Store dataset. We can continue to the next step of data cleaning process."
   ]
  },
  {
   "cell_type": "markdown",
   "id": "ac5d7ea3",
   "metadata": {},
   "source": [
    "### 2.2 Removing duplicate entries\n",
    "This time we will check each dataset for duplicate entries, meaning the same app/information are mentioned several times in the dataset. For Play Store, we can check through the Apps name in the `App` column (index 0). If an app name is mentioned several time in the whole dataset, we conclude that duplicate entries occur in that particular app."
   ]
  },
  {
   "cell_type": "code",
   "execution_count": 7,
   "id": "7ded4049",
   "metadata": {},
   "outputs": [
    {
     "name": "stdout",
     "output_type": "stream",
     "text": [
      "No of duplicates:  1181 \n",
      "\n",
      "['Quick PDF Scanner + OCR FREE', 'Box', 'Google My Business', 'ZOOM Cloud Meetings']\n"
     ]
    }
   ],
   "source": [
    "duplicate_apps_android = []\n",
    "unique_apps_android = []\n",
    "\n",
    "for app in android:\n",
    "    name = app[0]\n",
    "    if name in unique_apps_android:\n",
    "        duplicate_apps_android.append(name)\n",
    "    else:\n",
    "        unique_apps_android.append(name)\n",
    "        \n",
    "print('No of duplicates: ', len(duplicate_apps_android), '\\n')\n",
    "print(duplicate_apps_android[:4])"
   ]
  },
  {
   "cell_type": "markdown",
   "id": "a737bf6e",
   "metadata": {},
   "source": [
    "Now we know there are 1181 duplicates in Google Play dataset. Let's check using similar command for duplicates in App Store. We will use the attribute `id` (index 0) in this dataset."
   ]
  },
  {
   "cell_type": "code",
   "execution_count": 8,
   "id": "a470cb48",
   "metadata": {},
   "outputs": [
    {
     "name": "stdout",
     "output_type": "stream",
     "text": [
      "No of duplicates:  0 \n",
      "\n",
      "[]\n"
     ]
    }
   ],
   "source": [
    "duplicate_apps_ios = []\n",
    "unique_apps_ios = []\n",
    "\n",
    "for app_id in ios:\n",
    "    name = app_id[0]\n",
    "    if name in unique_apps_ios:\n",
    "        duplicate_apps_ios.append(name)\n",
    "    else:\n",
    "        unique_apps_ios.append(name)\n",
    "        \n",
    "print('No of duplicates: ', len(duplicate_apps_ios), '\\n')\n",
    "print(duplicate_apps_ios[:4])"
   ]
  },
  {
   "cell_type": "markdown",
   "id": "195f04c9",
   "metadata": {},
   "source": [
    "The result shows that there is no duplicate entry on App Store dataset.  \n",
    "\n",
    "Next we have to remove the duplicates on Google Play, and retaining only single data for each duplicates. We can randomly pick which one of the duplicates will be retained, but we won't do that in this analysis. Instead we will pick the one which the latest entry. This can be identified by choosing the data which have the most number of reviews across the duplicates. we can find this information on `Reviews` column (index 3).\n",
    "\n",
    "To do that, we will:\n",
    "- Create a dictionary where each key is a unique app name, and the value is the highest number of reviews of that app\n",
    "- Use the dictionary to create new dataset, which will have only one entry per app\n",
    "\n",
    "First, we build the dictionary:"
   ]
  },
  {
   "cell_type": "code",
   "execution_count": 25,
   "id": "74263c8e",
   "metadata": {},
   "outputs": [
    {
     "name": "stdout",
     "output_type": "stream",
     "text": [
      "9659\n",
      "9659\n"
     ]
    }
   ],
   "source": [
    "reviews_max = {}\n",
    "\n",
    "for app in android:\n",
    "    name = app[0]\n",
    "    n_reviews = float(app[3])                                  # Index 3 is the number of reviews of each app\n",
    "    if name in reviews_max and reviews_max[name] < n_reviews:  # If the app is already in the list, and the new data has more review\n",
    "        reviews_max[name] = n_reviews                          #    then the data in the list is replaced by the new data\n",
    "    elif name not in reviews_max:                              # If the app is not already in the list\n",
    "        reviews_max[name] = n_reviews                          #    then the new data is inserted/appended to the list\n",
    "        \n",
    "print(len(reviews_max))                                        # The length of our new list\n",
    "print(len(android) - len(duplicate_apps_android))              # The length of our original data substracted by \n",
    "                                                               #    the number of duplicates (expected result)"
   ]
  },
  {
   "cell_type": "markdown",
   "id": "7a509143",
   "metadata": {},
   "source": [
    "We have build the dictionary and verify that its lenght matches the expected lenght of Google Play dataset, after we remove the duplicates. The expected length should be the current length substracted by the number of duplicates.\n",
    "\n",
    "Now, after we have dictionary `reviews_max`, we can build our new dataset which only contains unique apps.\n",
    "\n",
    "We loop through the `android` dataset and in each iteration we check the number of reviews and compare it to `reviews_max`. If it matches, then we append the data to our new dataset `android_clean`.\n",
    "\n",
    "In details, we do this in the code below:\n",
    "- create two lists, `android_clean` which will be our new dataset, and `already_added` which will help us identify whether the app has been added to `android_clean` or not,\n",
    "- iterate for each row in `android` dataset,\n",
    "- obtain the app name (index 0), and assign it to variable `name`,\n",
    "- obtain the number of reviews (index 3), and assign it to variable `n_reviews`,\n",
    "- set if condition, and append the row if `n_review` matches the corresponding value in `reviews_max` list we build in previous step. Also only if the app has not been added to `already_added` list.\n",
    "\n",
    "Then we test by printing the length of our new dataset. Expected lenght should be 9659."
   ]
  },
  {
   "cell_type": "code",
   "execution_count": 10,
   "id": "cb99b669",
   "metadata": {},
   "outputs": [
    {
     "name": "stdout",
     "output_type": "stream",
     "text": [
      "Our new dataset length:  9659\n"
     ]
    }
   ],
   "source": [
    "android_clean = []\n",
    "already_added = []\n",
    "\n",
    "for app in android:\n",
    "    name = app[0]\n",
    "    n_reviews = float(app[3])\n",
    "    if (n_reviews == reviews_max[name]) and (name not in already_added):\n",
    "        android_clean.append(app)\n",
    "        already_added.append(name)\n",
    "        \n",
    "print('Our new dataset length: ', len(android_clean))"
   ]
  },
  {
   "cell_type": "markdown",
   "id": "2ac16ef7",
   "metadata": {},
   "source": [
    "The length of our new dataset is verified."
   ]
  },
  {
   "cell_type": "markdown",
   "id": "af251235",
   "metadata": {},
   "source": [
    "### 2.3 Removing non-English app\n",
    "In this project, we limit our analysis only for the apps which designed for English-speaking audience. So we will have to check our datasets for non-English language, and remove them from our dataset.\n",
    "\n",
    "To do this, we have to check for the app name that contains symbols no commonly used in English text. Using build-in function `ord()`, we able to obtain the corresponding number for each character. And according to [ASCII](https://en.wikipedia.org/wiki/ASCII) (American Standard Code for Information Interchange), characters used in English text correspond to number in range **between 0 to 127**. Therefore, we should check for app name on our datasets and if we find character number beyond the range of 0 to 127, then most likely that app is not in English languange.\n",
    "\n",
    "To easily reuse the checking command, we build a function `is_english` which takes in string command and return `True` if the input text is in English, and `False` otherwise. To strengthen our function, we only classify the string as non-English if it contains three or more characters which number above 127, so even if there is emoji or other single non-common symbol in the string, our function still classify is as English text.\n",
    "\n",
    "There is possibly a better solution since there may be a case that a non-English app is having English app name or an English app is having non-common characters, but this method should be good enough in our analysis."
   ]
  },
  {
   "cell_type": "code",
   "execution_count": 11,
   "id": "1983e929",
   "metadata": {
    "scrolled": true
   },
   "outputs": [
    {
     "name": "stdout",
     "output_type": "stream",
     "text": [
      "True\n",
      "False\n",
      "True\n",
      "True\n"
     ]
    }
   ],
   "source": [
    "def is_english(string):\n",
    "    count = 0                      # Counter to record how many non-English character detected\n",
    "    for character in string:\n",
    "        if (ord(character) > 127):\n",
    "            count += 1\n",
    "            if count > 3:\n",
    "                return False\n",
    "    return True\n",
    "\n",
    "# Test the function\n",
    "print(is_english('Instagram'))\n",
    "print(is_english('爱奇艺PPS -《欢乐颂2》电视剧热播'))\n",
    "print(is_english('Docs To Go™ Free Office Suite'))\n",
    "print(is_english('Instachat 😜'))"
   ]
  },
  {
   "cell_type": "markdown",
   "id": "bd51180d",
   "metadata": {},
   "source": [
    "Using our new function `is_english`, now we can isolate the non-English apps in our datasets and return new datasets that only contain English apps. The new datasets will be `android_english` and `ios_english`.\n",
    "\n",
    "To do this, we will iterate for each app in each dataset, then checking the app name whether it is an English name using function `is_english`. Only English app will be appended to the new datasets.\n",
    "\n",
    "After that we check the length of each new dataset."
   ]
  },
  {
   "cell_type": "code",
   "execution_count": 12,
   "id": "8e71c101",
   "metadata": {},
   "outputs": [
    {
     "name": "stdout",
     "output_type": "stream",
     "text": [
      "Google Play dataset length:  9614\n",
      "App Store dataset length:  6183\n"
     ]
    }
   ],
   "source": [
    "android_english = []\n",
    "ios_english = []\n",
    "\n",
    "for app in android_clean:\n",
    "    name = app[0]\n",
    "    if (is_english(name)):\n",
    "        android_english.append(app)\n",
    "\n",
    "for app in ios:\n",
    "    name = app[1]  # For ios, the app name is under column 'track_name' (index 1)\n",
    "    if (is_english(name)):\n",
    "        ios_english.append(app)\n",
    "    \n",
    "print('Google Play dataset length: ', len(android_english))\n",
    "print('App Store dataset length: ', len(ios_english))"
   ]
  },
  {
   "cell_type": "markdown",
   "id": "80677321",
   "metadata": {},
   "source": [
    "In Play Store, we have reduced our dataset **from 9659 to 9614**, and in App Store we reduced **from 7196 to 6183**. We may still find one or two non-English apps in our new datasets because our function is not perfect, but they should be rare enough so that they won't affect our analysis"
   ]
  },
  {
   "cell_type": "markdown",
   "id": "e0ace97c",
   "metadata": {},
   "source": [
    "### 2.4 Filtering free app\n",
    "Since we plan to develop app that is free to download and install, and our main source of revenue would be in-app ads, we will isolate only the free apps for our analysis. Attributes on each dataset that we find helpful for this process:\n",
    "- Play Store: `price` column (index 7)\n",
    "- App Store: `price` column (index 4)\n",
    "\n",
    "Note that the price values are in string, so we don't compare them with `int` or `float` types.\n",
    "\n",
    "This will be our last step on the data cleaning process."
   ]
  },
  {
   "cell_type": "code",
   "execution_count": 26,
   "id": "58a4d220",
   "metadata": {},
   "outputs": [
    {
     "name": "stdout",
     "output_type": "stream",
     "text": [
      "Final android dataset:  8864\n",
      "Final ios dataset:  3222\n"
     ]
    }
   ],
   "source": [
    "android_final = []\n",
    "ios_final = []\n",
    "\n",
    "for app in android_english:\n",
    "    price = app[7]                 # index 7 is the app price in Play Store\n",
    "    if(price == '0'):\n",
    "        android_final.append(app)\n",
    "        \n",
    "for app in ios_english:\n",
    "    price = app[4]                 # index 4 is the app price in App Store\n",
    "    if(price == '0.0'):\n",
    "        ios_final.append(app)\n",
    "\n",
    "print('Final android dataset: ', len(android_final))\n",
    "print('Final ios dataset: ', len(ios_final))"
   ]
  },
  {
   "cell_type": "markdown",
   "id": "10f1c2d7",
   "metadata": {},
   "source": [
    "So far we have done these steps for the data cleaning process:\n",
    "- Deleting wrong data\n",
    "- Removing duplicate entries\n",
    "- Removing non-English apps\n",
    "- Filtering free apps\n",
    "\n",
    "Now after we've done cleaning the datasets, we can start to analyze them."
   ]
  },
  {
   "cell_type": "markdown",
   "id": "36b46a3b",
   "metadata": {},
   "source": [
    "## 3. Analyzing the Data\n",
    "### 3.1 Categorizing by genres\n",
    "As a reminder, our goal is to determine what kind of app that attracts users the most, because our revenue depends on the number of people using our app.\n",
    "\n",
    "So now let's begin our analysis by determining what genre of app that people are likely to install. Both datasets contain useful information for us to categorize them:\n",
    "- in Google Play we use column `Category`, and\n",
    "- in App Store we use column `prime_genre`.\n",
    "\n",
    "To simplify, we will use word **genres** to address those columns. By catergorizing the apps by genre, we can find which genres dominate the market on each platform. Next, we will build a function that return the number of users for each genre on each dataset, and present them as percentage."
   ]
  },
  {
   "cell_type": "code",
   "execution_count": 27,
   "id": "c029bab2",
   "metadata": {},
   "outputs": [
    {
     "name": "stdout",
     "output_type": "stream",
     "text": [
      "{'ART_AND_DESIGN': 0.64, 'AUTO_AND_VEHICLES': 0.93, 'BEAUTY': 0.6, 'BOOKS_AND_REFERENCE': 2.14, 'BUSINESS': 4.59, 'COMICS': 0.62, 'COMMUNICATION': 3.24, 'DATING': 1.86, 'EDUCATION': 1.16, 'ENTERTAINMENT': 0.96, 'EVENTS': 0.71, 'FINANCE': 3.7, 'FOOD_AND_DRINK': 1.24, 'HEALTH_AND_FITNESS': 3.08, 'HOUSE_AND_HOME': 0.82, 'LIBRARIES_AND_DEMO': 0.94, 'LIFESTYLE': 3.9, 'GAME': 9.72, 'FAMILY': 18.91, 'MEDICAL': 3.53, 'SOCIAL': 2.66, 'SHOPPING': 2.25, 'PHOTOGRAPHY': 2.94, 'SPORTS': 3.4, 'TRAVEL_AND_LOCAL': 2.34, 'TOOLS': 8.46, 'PERSONALIZATION': 3.32, 'PRODUCTIVITY': 3.89, 'PARENTING': 0.65, 'WEATHER': 0.8, 'VIDEO_PLAYERS': 1.79, 'NEWS_AND_MAGAZINES': 2.8, 'MAPS_AND_NAVIGATION': 1.4}\n",
      "\n",
      "\n",
      "{'Social Networking': 3.29, 'Photo & Video': 4.97, 'Games': 58.16, 'Music': 2.05, 'Reference': 0.56, 'Health & Fitness': 2.02, 'Weather': 0.87, 'Utilities': 2.51, 'Travel': 1.24, 'Shopping': 2.61, 'News': 1.33, 'Navigation': 0.19, 'Lifestyle': 1.58, 'Entertainment': 7.88, 'Food & Drink': 0.81, 'Sports': 2.14, 'Book': 0.43, 'Finance': 1.12, 'Education': 3.66, 'Productivity': 1.74, 'Business': 0.53, 'Catalogs': 0.12, 'Medical': 0.19}\n"
     ]
    }
   ],
   "source": [
    "def freq_percent(dataset, index):\n",
    "    freq_table = {}  # Define the dictionary that will be used to contain the frequencies of each value.\n",
    "    total = 0        # Define new variable to count the number of element in freq_table. Will be used to calculate the means.\n",
    "    \n",
    "    # Iteration to create the frequency table\n",
    "    for row in dataset:\n",
    "        value = row[index]\n",
    "        total += 1\n",
    "        \n",
    "        if(value in freq_table):       # If the value is already in our frequency table, then add the occurrence by 1\n",
    "            freq_table[value] += 1\n",
    "        else:                          # First occurrence of the value\n",
    "            freq_table[value] = 1\n",
    "    \n",
    "    # Iteration to calculate the percentages of each value\n",
    "    percent_table = {}\n",
    "    for key in freq_table:\n",
    "        percentage = (freq_table[key] / total) * 100\n",
    "        percent_table[key] = round(percentage, 2)     # Rounding the percentage value up to two decimals\n",
    "        \n",
    "    return percent_table\n",
    "\n",
    "print(freq_percent(android_final, 1))\n",
    "print('\\n')\n",
    "print(freq_percent(ios_final, 11))"
   ]
  },
  {
   "cell_type": "markdown",
   "id": "c2d3d18e",
   "metadata": {},
   "source": [
    "We have built a function that shows us the number of user of each genre, but the representation is pretty difficult to read.\n",
    "So let's build another function that displays our result in more readable way by sorting them.\n",
    "\n",
    "We will use build-in function `sorted` for this. But since this function does not work well with dictionary, we will have to convert our dictionary `percent_table` to a tuple. If we don't do this, the `sorted` function will only return the dictionary key, and the dictionary value will be left out.\n",
    "\n",
    "In details, here are the steps we will take:\n",
    "- call the function `freq_percent` so we have our initial unsorted dictionary,\n",
    "- initialize table `unsorted_table`, this will be our conversion result but still unsorted,\n",
    "- iterate for each key in dictionary `table`, and retrieve every value within the key as a tuple. We put the value `table[key]` first then the key, because we will sort our list depending on the values, not the keys,\n",
    "- in every iteration we append the tuple into `unsorted_table`,\n",
    "- sort the `unsorted_table` using build-in function `sorted`, and set `reverse=True` because we will sort the table in descending order,\n",
    "- print each entry on the `sorted_table` with the key first then followed by the value for readibilty."
   ]
  },
  {
   "cell_type": "code",
   "execution_count": 29,
   "id": "13fab4e7",
   "metadata": {},
   "outputs": [
    {
     "name": "stdout",
     "output_type": "stream",
     "text": [
      "Genres' popularity in Google Play:\n",
      "FAMILY :  18.91\n",
      "GAME :  9.72\n",
      "TOOLS :  8.46\n",
      "BUSINESS :  4.59\n",
      "LIFESTYLE :  3.9\n",
      "PRODUCTIVITY :  3.89\n",
      "FINANCE :  3.7\n",
      "MEDICAL :  3.53\n",
      "SPORTS :  3.4\n",
      "PERSONALIZATION :  3.32\n",
      "COMMUNICATION :  3.24\n",
      "HEALTH_AND_FITNESS :  3.08\n",
      "PHOTOGRAPHY :  2.94\n",
      "NEWS_AND_MAGAZINES :  2.8\n",
      "SOCIAL :  2.66\n",
      "TRAVEL_AND_LOCAL :  2.34\n",
      "SHOPPING :  2.25\n",
      "BOOKS_AND_REFERENCE :  2.14\n",
      "DATING :  1.86\n",
      "VIDEO_PLAYERS :  1.79\n",
      "MAPS_AND_NAVIGATION :  1.4\n",
      "FOOD_AND_DRINK :  1.24\n",
      "EDUCATION :  1.16\n",
      "ENTERTAINMENT :  0.96\n",
      "LIBRARIES_AND_DEMO :  0.94\n",
      "AUTO_AND_VEHICLES :  0.93\n",
      "HOUSE_AND_HOME :  0.82\n",
      "WEATHER :  0.8\n",
      "EVENTS :  0.71\n",
      "PARENTING :  0.65\n",
      "ART_AND_DESIGN :  0.64\n",
      "COMICS :  0.62\n",
      "BEAUTY :  0.6\n"
     ]
    }
   ],
   "source": [
    "def display_table(dataset, index):\n",
    "    table = freq_percent(dataset, index)                # Obtain the frequency table of the column which we will sort\n",
    "    unsorted_table = []                                 # Empty list to store our conversion result\n",
    "    \n",
    "    for key in table:\n",
    "        key_val_as_tuple = (table[key], key)            # Obtain each value and key for dictionary, and save them as tuple\n",
    "        unsorted_table.append(key_val_as_tuple)         # Store the tuples into unsorted_table\n",
    "        \n",
    "    sorted_table = sorted(unsorted_table, reverse=True) # Sort the list by the value in descending order (reverse=True)\n",
    "    for entry in sorted_table:                          # Print the list in readable way\n",
    "        print(entry[1], ': ', entry[0])\n",
    "\n",
    "# Testing the function on Play Store dataset\n",
    "print(\"Genres' popularity in Google Play:\")\n",
    "display_table(android_final, 1)                         # Index 1 is the Category column in Play Store dataset"
   ]
  },
  {
   "cell_type": "markdown",
   "id": "f03efce1",
   "metadata": {},
   "source": [
    "The result above shows us that in Google Play, there is no genre that significantly dominate the market. The popularity is distributed relatively even. But if we dig deeper, there is actualy another attribute in Google Play dataset, which is the `genres` column, that inform us for more specific genres."
   ]
  },
  {
   "cell_type": "code",
   "execution_count": 30,
   "id": "977ac508",
   "metadata": {},
   "outputs": [
    {
     "name": "stdout",
     "output_type": "stream",
     "text": [
      "Genres' popularity in Google Play:\n",
      "Tools :  8.45\n",
      "Entertainment :  6.07\n",
      "Education :  5.35\n",
      "Business :  4.59\n",
      "Productivity :  3.89\n",
      "Lifestyle :  3.89\n",
      "Finance :  3.7\n",
      "Medical :  3.53\n",
      "Sports :  3.46\n",
      "Personalization :  3.32\n",
      "Communication :  3.24\n",
      "Action :  3.1\n",
      "Health & Fitness :  3.08\n",
      "Photography :  2.94\n",
      "News & Magazines :  2.8\n",
      "Social :  2.66\n",
      "Travel & Local :  2.32\n",
      "Shopping :  2.25\n",
      "Books & Reference :  2.14\n",
      "Simulation :  2.04\n",
      "Dating :  1.86\n",
      "Arcade :  1.85\n",
      "Video Players & Editors :  1.77\n",
      "Casual :  1.76\n",
      "Maps & Navigation :  1.4\n",
      "Food & Drink :  1.24\n",
      "Puzzle :  1.13\n",
      "Racing :  0.99\n",
      "Role Playing :  0.94\n",
      "Libraries & Demo :  0.94\n",
      "Auto & Vehicles :  0.93\n",
      "Strategy :  0.91\n",
      "House & Home :  0.82\n",
      "Weather :  0.8\n",
      "Events :  0.71\n",
      "Adventure :  0.68\n",
      "Comics :  0.61\n",
      "Beauty :  0.6\n",
      "Art & Design :  0.6\n",
      "Parenting :  0.5\n",
      "Card :  0.45\n",
      "Casino :  0.43\n",
      "Trivia :  0.42\n",
      "Educational;Education :  0.39\n",
      "Board :  0.38\n",
      "Educational :  0.37\n",
      "Education;Education :  0.34\n",
      "Word :  0.26\n",
      "Casual;Pretend Play :  0.24\n",
      "Music :  0.2\n",
      "Racing;Action & Adventure :  0.17\n",
      "Puzzle;Brain Games :  0.17\n",
      "Entertainment;Music & Video :  0.17\n",
      "Casual;Brain Games :  0.14\n",
      "Casual;Action & Adventure :  0.14\n",
      "Arcade;Action & Adventure :  0.12\n",
      "Action;Action & Adventure :  0.1\n",
      "Educational;Pretend Play :  0.09\n",
      "Simulation;Action & Adventure :  0.08\n",
      "Parenting;Education :  0.08\n",
      "Entertainment;Brain Games :  0.08\n",
      "Board;Brain Games :  0.08\n",
      "Parenting;Music & Video :  0.07\n",
      "Educational;Brain Games :  0.07\n",
      "Casual;Creativity :  0.07\n",
      "Art & Design;Creativity :  0.07\n",
      "Education;Pretend Play :  0.06\n",
      "Role Playing;Pretend Play :  0.05\n",
      "Education;Creativity :  0.05\n",
      "Role Playing;Action & Adventure :  0.03\n",
      "Puzzle;Action & Adventure :  0.03\n",
      "Entertainment;Creativity :  0.03\n",
      "Entertainment;Action & Adventure :  0.03\n",
      "Educational;Creativity :  0.03\n",
      "Educational;Action & Adventure :  0.03\n",
      "Education;Music & Video :  0.03\n",
      "Education;Brain Games :  0.03\n",
      "Education;Action & Adventure :  0.03\n",
      "Adventure;Action & Adventure :  0.03\n",
      "Video Players & Editors;Music & Video :  0.02\n",
      "Sports;Action & Adventure :  0.02\n",
      "Simulation;Pretend Play :  0.02\n",
      "Puzzle;Creativity :  0.02\n",
      "Music;Music & Video :  0.02\n",
      "Entertainment;Pretend Play :  0.02\n",
      "Casual;Education :  0.02\n",
      "Board;Action & Adventure :  0.02\n",
      "Video Players & Editors;Creativity :  0.01\n",
      "Trivia;Education :  0.01\n",
      "Travel & Local;Action & Adventure :  0.01\n",
      "Tools;Education :  0.01\n",
      "Strategy;Education :  0.01\n",
      "Strategy;Creativity :  0.01\n",
      "Strategy;Action & Adventure :  0.01\n",
      "Simulation;Education :  0.01\n",
      "Role Playing;Brain Games :  0.01\n",
      "Racing;Pretend Play :  0.01\n",
      "Puzzle;Education :  0.01\n",
      "Parenting;Brain Games :  0.01\n",
      "Music & Audio;Music & Video :  0.01\n",
      "Lifestyle;Pretend Play :  0.01\n",
      "Lifestyle;Education :  0.01\n",
      "Health & Fitness;Education :  0.01\n",
      "Health & Fitness;Action & Adventure :  0.01\n",
      "Entertainment;Education :  0.01\n",
      "Communication;Creativity :  0.01\n",
      "Comics;Creativity :  0.01\n",
      "Casual;Music & Video :  0.01\n",
      "Card;Action & Adventure :  0.01\n",
      "Books & Reference;Education :  0.01\n",
      "Art & Design;Pretend Play :  0.01\n",
      "Art & Design;Action & Adventure :  0.01\n",
      "Arcade;Pretend Play :  0.01\n",
      "Adventure;Education :  0.01\n"
     ]
    }
   ],
   "source": [
    "print(\"Genres' popularity in Google Play:\")\n",
    "display_table(android_final, 9)                # Index 9 is the `genres` column in Play Store dataset"
   ]
  },
  {
   "cell_type": "markdown",
   "id": "3f156621",
   "metadata": {},
   "source": [
    "This information is pretty specific because it actually categorized the data not only as genre but also subgenre or secondary genre. But since the result is not much different than our previous result, and at the moment we only need the bigger picture, we will disregard this result and proceed with the previous result in mind.\n",
    "\n",
    "Now moving on to ios dataset:"
   ]
  },
  {
   "cell_type": "code",
   "execution_count": 17,
   "id": "68d18abd",
   "metadata": {},
   "outputs": [
    {
     "name": "stdout",
     "output_type": "stream",
     "text": [
      "Genres' popularity in App Store:\n",
      "Games :  58.16\n",
      "Entertainment :  7.88\n",
      "Photo & Video :  4.97\n",
      "Education :  3.66\n",
      "Social Networking :  3.29\n",
      "Shopping :  2.61\n",
      "Utilities :  2.51\n",
      "Sports :  2.14\n",
      "Music :  2.05\n",
      "Health & Fitness :  2.02\n",
      "Productivity :  1.74\n",
      "Lifestyle :  1.58\n",
      "News :  1.33\n",
      "Travel :  1.24\n",
      "Finance :  1.12\n",
      "Weather :  0.87\n",
      "Food & Drink :  0.81\n",
      "Reference :  0.56\n",
      "Business :  0.53\n",
      "Book :  0.43\n",
      "Navigation :  0.19\n",
      "Medical :  0.19\n",
      "Catalogs :  0.12\n"
     ]
    }
   ],
   "source": [
    "print(\"Genres' popularity in App Store:\")\n",
    "display_table(ios_final, 11)"
   ]
  },
  {
   "cell_type": "markdown",
   "id": "41bcbd44",
   "metadata": {},
   "source": [
    "In contrast with Google Play dataset, in App Store we can actually see a genres that significantly dominates the market, which is `Games` with 58.16% popularity (more than half of the dataset). And after further observation, we can see the popularity is mostly dominated by apps that are designed for fun (games, entertainment, hobby, etc.).\n",
    "\n",
    "However this data only based on the number of apps in the market, not the number of users. So we cannot yet conclude that those top genre are actually popular.\n",
    "\n",
    "So now let's continue our analysis from another angle to determine the actual popularity of app's genre. We can easily obtain that by taking account the number of users that install the app."
   ]
  },
  {
   "cell_type": "markdown",
   "id": "50fdb122",
   "metadata": {},
   "source": [
    "### 3.2 Most popular apps by genres\n",
    "So far our frequency table only determines which genre dominates the market. We have `Games` genre dominates the App Store, while Google Play shows more balance landscape across genres. Now we'd like to determine the apps with the most users.\n",
    "\n",
    "One way to find out which genres with the most users is:\n",
    "- For Google Play: using the value in `Install` column to determine how many users download and install the app.\n",
    "- For App Store: we do not have `Install` column here, but we can use `rating_count_tot` instead, to determine how many ratings have been received by the app.\n",
    "\n",
    "### Most popular app in App Store\n",
    "Let's retrieve the data from App Store first:"
   ]
  },
  {
   "cell_type": "code",
   "execution_count": 31,
   "id": "0607bf25",
   "metadata": {},
   "outputs": [
    {
     "name": "stdout",
     "output_type": "stream",
     "text": [
      "Social Networking :  71548.35\n",
      "Photo & Video :  28441.54\n",
      "Games :  22788.67\n",
      "Music :  57326.53\n",
      "Reference :  74942.11\n",
      "Health & Fitness :  23298.02\n",
      "Weather :  52279.89\n",
      "Utilities :  18684.46\n",
      "Travel :  28243.8\n",
      "Shopping :  26919.69\n",
      "News :  21248.02\n",
      "Navigation :  86090.33\n",
      "Lifestyle :  16485.76\n",
      "Entertainment :  14029.83\n",
      "Food & Drink :  33333.92\n",
      "Sports :  23008.9\n",
      "Book :  39758.5\n",
      "Finance :  31467.94\n",
      "Education :  7003.98\n",
      "Productivity :  21028.41\n",
      "Business :  7491.12\n",
      "Catalogs :  4004.0\n",
      "Medical :  612.0\n"
     ]
    }
   ],
   "source": [
    "prime_genre = freq_percent(ios_final, 11)    # Index 11 is the `prime_genre` column in App Store dataset\n",
    "\n",
    "for genre in prime_genre:\n",
    "    total = 0                                # This will store the total number of ratings received on each genre\n",
    "    len_genre = 0                            # This will store the number of apps on each genre\n",
    "    \n",
    "    for row in ios_final:\n",
    "        genre_app = row[11]                  # Index 11 is the `prime_genre` column in App Store dataset\n",
    "        if (genre_app == genre):\n",
    "            total += float(row[5])           # Index 5 is the `rating_count_tot`, we count the number of ratings for each genre\n",
    "            len_genre += 1\n",
    "            \n",
    "    avg_rating = round(total / len_genre, 2) # Calculate the average and round them up to two decimals point\n",
    "    print(genre, ': ', avg_rating)"
   ]
  },
  {
   "cell_type": "markdown",
   "id": "598e59c0",
   "metadata": {},
   "source": [
    "Result above shows us that generally people install Navigation apps, then Reference and Social Networking apps. But before making any conclusion, let's investigate further what apps on Navigation genre people usually install."
   ]
  },
  {
   "cell_type": "code",
   "execution_count": 19,
   "id": "30146eb2",
   "metadata": {},
   "outputs": [
    {
     "name": "stdout",
     "output_type": "stream",
     "text": [
      "Waze - GPS Navigation, Maps & Real-time Traffic :  345046\n",
      "Google Maps - Navigation & Transit :  154911\n",
      "Geocaching® :  12811\n",
      "CoPilot GPS – Car Navigation & Offline Maps :  3582\n",
      "ImmobilienScout24: Real Estate Search in Germany :  187\n",
      "Railway Route Search :  5\n"
     ]
    }
   ],
   "source": [
    "for app in ios_final:\n",
    "    if app[11] == 'Navigation':\n",
    "        print(app[1], ': ', app[5])"
   ]
  },
  {
   "cell_type": "markdown",
   "id": "e45e89a7",
   "metadata": {},
   "source": [
    "It turns out that our data is highly influenced by Waze and Google Maps (They have almost 500k users in total!). And this is not a good sign because our analysis will be skewed by those two apps. Not to mention our goal is to develop a new app, and it would be very difficult to compete with those two big players. To avoid introducing bias to our analysis, we have to remove the apps which may skew our dataset and rework the averages.\n",
    "\n",
    "We suspect similar situation occurs in Reference and Social Networking apps, so let's confirm it."
   ]
  },
  {
   "cell_type": "code",
   "execution_count": 20,
   "id": "5beec1bd",
   "metadata": {},
   "outputs": [
    {
     "name": "stdout",
     "output_type": "stream",
     "text": [
      "Reference apps\n",
      "Bible :  985920\n",
      "Dictionary.com Dictionary & Thesaurus :  200047\n",
      "Dictionary.com Dictionary & Thesaurus for iPad :  54175\n",
      "Google Translate :  26786\n",
      "Muslim Pro: Ramadan 2017 Prayer Times, Azan, Quran :  18418\n",
      "New Furniture Mods - Pocket Wiki & Game Tools for Minecraft PC Edition :  17588\n",
      "Merriam-Webster Dictionary :  16849\n",
      "Night Sky :  12122\n",
      "City Maps for Minecraft PE - The Best Maps for Minecraft Pocket Edition (MCPE) :  8535\n",
      "LUCKY BLOCK MOD ™ for Minecraft PC Edition - The Best Pocket Wiki & Mods Installer Tools :  4693\n",
      "GUNS MODS for Minecraft PC Edition - Mods Tools :  1497\n",
      "Guides for Pokémon GO - Pokemon GO News and Cheats :  826\n",
      "WWDC :  762\n",
      "Horror Maps for Minecraft PE - Download The Scariest Maps for Minecraft Pocket Edition (MCPE) Free :  718\n",
      "VPN Express :  14\n",
      "Real Bike Traffic Rider Virtual Reality Glasses :  8\n",
      "教えて!goo :  0\n",
      "Jishokun-Japanese English Dictionary & Translator :  0\n",
      "\n",
      "\n",
      "Social Networking apps\n",
      "Facebook :  2974676\n",
      "Pinterest :  1061624\n",
      "Skype for iPhone :  373519\n",
      "Messenger :  351466\n",
      "Tumblr :  334293\n",
      "WhatsApp Messenger :  287589\n",
      "Kik :  260965\n",
      "ooVoo – Free Video Call, Text and Voice :  177501\n",
      "TextNow - Unlimited Text + Calls :  164963\n",
      "Viber Messenger – Text & Call :  164249\n",
      "Followers - Social Analytics For Instagram :  112778\n",
      "MeetMe - Chat and Meet New People :  97072\n",
      "We Heart It - Fashion, wallpapers, quotes, tattoos :  90414\n",
      "InsTrack for Instagram - Analytics Plus More :  85535\n",
      "Tango - Free Video Call, Voice and Chat :  75412\n",
      "LinkedIn :  71856\n",
      "Match™ - #1 Dating App. :  60659\n",
      "Skype for iPad :  60163\n",
      "POF - Best Dating App for Conversations :  52642\n",
      "Timehop :  49510\n",
      "Find My Family, Friends & iPhone - Life360 Locator :  43877\n",
      "Whisper - Share, Express, Meet :  39819\n",
      "Hangouts :  36404\n",
      "LINE PLAY - Your Avatar World :  34677\n",
      "WeChat :  34584\n",
      "Badoo - Meet New People, Chat, Socialize. :  34428\n",
      "Followers + for Instagram - Follower Analytics :  28633\n",
      "GroupMe :  28260\n",
      "Marco Polo Video Walkie Talkie :  27662\n",
      "Miitomo :  23965\n",
      "SimSimi :  23530\n",
      "Grindr - Gay and same sex guys chat, meet and date :  23201\n",
      "Wishbone - Compare Anything :  20649\n",
      "imo video calls and chat :  18841\n",
      "After School - Funny Anonymous School News :  18482\n",
      "Quick Reposter - Repost, Regram and Reshare Photos :  17694\n",
      "Weibo HD :  16772\n",
      "Repost for Instagram :  15185\n",
      "Live.me – Live Video Chat & Make Friends Nearby :  14724\n",
      "Nextdoor :  14402\n",
      "Followers Analytics for Instagram - InstaReport :  13914\n",
      "YouNow: Live Stream Video Chat :  12079\n",
      "FollowMeter for Instagram - Followers Tracking :  11976\n",
      "LINE :  11437\n",
      "eHarmony™ Dating App - Meet Singles :  11124\n",
      "Discord - Chat for Gamers :  9152\n",
      "QQ :  9109\n",
      "Telegram Messenger :  7573\n",
      "Weibo :  7265\n",
      "Periscope - Live Video Streaming Around the World :  6062\n",
      "Chat for Whatsapp - iPad Version :  5060\n",
      "QQ HD :  5058\n",
      "Followers Analysis Tool For Instagram App Free :  4253\n",
      "live.ly - live video streaming :  4145\n",
      "Houseparty - Group Video Chat :  3991\n",
      "SOMA Messenger :  3232\n",
      "Monkey :  3060\n",
      "Down To Lunch :  2535\n",
      "Flinch - Video Chat Staring Contest :  2134\n",
      "Highrise - Your Avatar Community :  2011\n",
      "LOVOO - Dating Chat :  1985\n",
      "PlayStation®Messages :  1918\n",
      "BOO! - Video chat camera with filters & stickers :  1805\n",
      "Qzone :  1649\n",
      "Chatous - Chat with new people :  1609\n",
      "Kiwi - Q&A :  1538\n",
      "GhostCodes - a discovery app for Snapchat :  1313\n",
      "Jodel :  1193\n",
      "FireChat :  1037\n",
      "Google Duo - simple video calling :  1033\n",
      "Fiesta by Tango - Chat & Meet New People :  885\n",
      "Google Allo — smart messaging :  862\n",
      "Peach — share vividly :  727\n",
      "Hey! VINA - Where Women Meet New Friends :  719\n",
      "Battlefield™ Companion :  689\n",
      "All Devices for WhatsApp - Messenger for iPad :  682\n",
      "Chat for Pokemon Go - GoChat :  500\n",
      "IAmNaughty – Dating App to Meet New People Online :  463\n",
      "Qzone HD :  458\n",
      "Zenly - Locate your friends in realtime :  427\n",
      "League of Legends Friends :  420\n",
      "豆瓣 :  407\n",
      "Candid - Speak Your Mind Freely :  398\n",
      "知乎 :  397\n",
      "Selfeo :  366\n",
      "Fake-A-Location Free ™ :  354\n",
      "Popcorn Buzz - Free Group Calls :  281\n",
      "Fam — Group video calling for iMessage :  279\n",
      "QQ International :  274\n",
      "Ameba :  269\n",
      "SoundCloud Pulse: for creators :  240\n",
      "Tantan :  235\n",
      "Cougar Dating & Life Style App for Mature Women :  213\n",
      "Rawr Messenger - Dab your chat :  180\n",
      "WhenToPost: Best Time to Post Photos for Instagram :  158\n",
      "Inke—Broadcast an amazing life :  147\n",
      "Mustknow - anonymous video Q&A :  53\n",
      "CTFxCmoji :  39\n",
      "Lobi :  36\n",
      "Chain: Collaborate On MyVideo Story/Group Video :  35\n",
      "botman - Real time video chat :  7\n",
      "BestieBox :  0\n",
      "MATCH ON LINE chat :  0\n",
      "niconico ch :  0\n",
      "LINE BLOG :  0\n",
      "bit-tube - Live Stream Video Chat :  0\n"
     ]
    }
   ],
   "source": [
    "print('Reference apps')\n",
    "for app in ios_final:\n",
    "    if app[11] == 'Reference':\n",
    "        print(app[1], ': ', app[5])\n",
    "\n",
    "print('\\n')\n",
    "print('Social Networking apps')\n",
    "for app in ios_final:\n",
    "    if app[11] == 'Social Networking':\n",
    "        print(app[1], ': ', app[5])"
   ]
  },
  {
   "cell_type": "markdown",
   "id": "d30959b2",
   "metadata": {},
   "source": [
    "The Reference apps is highly influenced by Bible and Dictionary while the Social Networking apps is highly influenced by Facebook and Pinterest. But considering to develop in this genre is not necessary bad idea, because as we know that App Store is saturated by fun apps (quick reminder that App Store has more than 58% in games genre), so if we develop a good app outside of \"fun\" category, our app might be stand out more. But keep in mind for this genre for later evaluation.\n",
    "\n",
    "### Most popular app in Google Play\n",
    "Now let's continue our analysis on Google Play. But unfortunately, we cannot process the data similarly to App Store dataset because the `Install` column is actually a string and does not precisely inform us how many installation for each app."
   ]
  },
  {
   "cell_type": "code",
   "execution_count": 32,
   "id": "ce6d651d",
   "metadata": {},
   "outputs": [
    {
     "name": "stdout",
     "output_type": "stream",
     "text": [
      "1,000,000+ :  15.73\n",
      "100,000+ :  11.55\n",
      "10,000,000+ :  10.55\n",
      "10,000+ :  10.2\n",
      "1,000+ :  8.39\n",
      "100+ :  6.92\n",
      "5,000,000+ :  6.83\n",
      "500,000+ :  5.56\n",
      "50,000+ :  4.77\n",
      "5,000+ :  4.51\n",
      "10+ :  3.54\n",
      "500+ :  3.25\n",
      "50,000,000+ :  2.3\n",
      "100,000,000+ :  2.13\n",
      "50+ :  1.92\n",
      "5+ :  0.79\n",
      "1+ :  0.51\n",
      "500,000,000+ :  0.27\n",
      "1,000,000,000+ :  0.23\n",
      "0+ :  0.05\n",
      "0 :  0.01\n",
      "None\n"
     ]
    }
   ],
   "source": [
    "print(display_table(android_final, 5))  # Index 5 is the `Install` column"
   ]
  },
  {
   "cell_type": "markdown",
   "id": "8cd85977",
   "metadata": {},
   "source": [
    "In this case we will convert the `string` into `float`, and leaving the values as is. To put it simply, `100,000+` in string will be equal to `100,000` in float. We will use `str.replace(old, new)` method for the conversion."
   ]
  },
  {
   "cell_type": "code",
   "execution_count": 33,
   "id": "a7f9f239",
   "metadata": {},
   "outputs": [
    {
     "name": "stdout",
     "output_type": "stream",
     "text": [
      "ART_AND_DESIGN :  1986335.09\n",
      "AUTO_AND_VEHICLES :  647317.82\n",
      "BEAUTY :  513151.89\n",
      "BOOKS_AND_REFERENCE :  8767811.89\n",
      "BUSINESS :  1712290.15\n",
      "COMICS :  817657.27\n",
      "COMMUNICATION :  38456119.17\n",
      "DATING :  854028.83\n",
      "EDUCATION :  1833495.15\n",
      "ENTERTAINMENT :  11640705.88\n",
      "EVENTS :  253542.22\n",
      "FINANCE :  1387692.48\n",
      "FOOD_AND_DRINK :  1924897.74\n",
      "HEALTH_AND_FITNESS :  4188821.99\n",
      "HOUSE_AND_HOME :  1331540.56\n",
      "LIBRARIES_AND_DEMO :  638503.73\n",
      "LIFESTYLE :  1437816.27\n",
      "GAME :  15588015.6\n",
      "FAMILY :  3695641.82\n",
      "MEDICAL :  120550.62\n",
      "SOCIAL :  23253652.13\n",
      "SHOPPING :  7036877.31\n",
      "PHOTOGRAPHY :  17840110.4\n",
      "SPORTS :  3638640.14\n",
      "TRAVEL_AND_LOCAL :  13984077.71\n",
      "TOOLS :  10801391.3\n",
      "PERSONALIZATION :  5201482.61\n",
      "PRODUCTIVITY :  16787331.34\n",
      "PARENTING :  542603.62\n",
      "WEATHER :  5074486.2\n",
      "VIDEO_PLAYERS :  24727872.45\n",
      "NEWS_AND_MAGAZINES :  9549178.47\n",
      "MAPS_AND_NAVIGATION :  4056941.77\n",
      "\n",
      "\n",
      "The most popular is in COMMUNICATION genre\n"
     ]
    }
   ],
   "source": [
    "Category = freq_percent(android_final, 1)            # Index 1 is the `Category` column in Play Store\n",
    "max_cat = 0                                          # This variable is to capture the category which has maximum install\n",
    "max_install = 0                                      # This variable is to capture the maximum install on each iteration\n",
    "\n",
    "for cat in Category:\n",
    "    total = 0                                        # To store the total number of installation of each category\n",
    "    len_category = 0                                 # To store the number of apps within each category\n",
    "    \n",
    "    for app in android_final:\n",
    "        category_app = app[1]\n",
    "        if(category_app == cat):\n",
    "            no_install = app[5]                      # Initiate the no_install variable\n",
    "            no_install = no_install.replace('+', '') # Removing the plus ('+') sign\n",
    "            no_install = no_install.replace(',', '') # Removing the comma (',') sign\n",
    "            \n",
    "            total += float(no_install)               # Count the total install for each category, after we convert them\n",
    "            len_category += 1                        # Count the number of app that falls into each category\n",
    "    \n",
    "    avg_install = round(total / len_category, 2)     # Calculate the average value\n",
    "    print(cat, ': ', avg_install)\n",
    "    \n",
    "    if(avg_install > max_install):\n",
    "        max_cat = cat                                # Retrieve the category which have the most average install\n",
    "        max_install = avg_install                    # Save the number of average install to be compared with the next iteration\n",
    "\n",
    "print('\\n')\n",
    "print('The most popular is in', max_cat, 'genre')"
   ]
  },
  {
   "cell_type": "markdown",
   "id": "8b671dbc",
   "metadata": {},
   "source": [
    "The result shows us that the COMMUNICATION genre is the most popular apps in Google Play, with average installation of more than 38 Millions. Similar to App Store case, we should check whether this data is highly influenced by certain apps."
   ]
  },
  {
   "cell_type": "code",
   "execution_count": 23,
   "id": "397a4161",
   "metadata": {},
   "outputs": [
    {
     "name": "stdout",
     "output_type": "stream",
     "text": [
      "WhatsApp Messenger :  1,000,000,000+\n",
      "imo beta free calls and text :  100,000,000+\n",
      "Android Messages :  100,000,000+\n",
      "Google Duo - High Quality Video Calls :  500,000,000+\n",
      "Messenger – Text and Video Chat for Free :  1,000,000,000+\n",
      "imo free video calls and chat :  500,000,000+\n",
      "Skype - free IM & video calls :  1,000,000,000+\n",
      "Who :  100,000,000+\n",
      "GO SMS Pro - Messenger, Free Themes, Emoji :  100,000,000+\n",
      "LINE: Free Calls & Messages :  500,000,000+\n",
      "Google Chrome: Fast & Secure :  1,000,000,000+\n",
      "Firefox Browser fast & private :  100,000,000+\n",
      "UC Browser - Fast Download Private & Secure :  500,000,000+\n",
      "Gmail :  1,000,000,000+\n",
      "Hangouts :  1,000,000,000+\n",
      "Messenger Lite: Free Calls & Messages :  100,000,000+\n",
      "Kik :  100,000,000+\n",
      "KakaoTalk: Free Calls & Text :  100,000,000+\n",
      "Opera Mini - fast web browser :  100,000,000+\n",
      "Opera Browser: Fast and Secure :  100,000,000+\n",
      "Telegram :  100,000,000+\n",
      "Truecaller: Caller ID, SMS spam blocking & Dialer :  100,000,000+\n",
      "UC Browser Mini -Tiny Fast Private & Secure :  100,000,000+\n",
      "Viber Messenger :  500,000,000+\n",
      "WeChat :  100,000,000+\n",
      "Yahoo Mail – Stay Organized :  100,000,000+\n",
      "BBM - Free Calls & Messages :  100,000,000+\n"
     ]
    }
   ],
   "source": [
    "for app in android_final:\n",
    "    if(app[1] == 'COMMUNICATION') and ((app[5] == '1,000,000,000+') or (app[5] == '500,000,000+') or (app[5] == '100,000,000+')):\n",
    "        print(app[0], ': ', app[5])"
   ]
  },
  {
   "cell_type": "markdown",
   "id": "18622db0",
   "metadata": {},
   "source": [
    "We filtered for apps that have extremely high number of installations, and we still got a lot of apps. This condition obviously skew our data. Let's remove some apps that have more than 100M installs from our dataset, to see if it still feasible to compete in this genre."
   ]
  },
  {
   "cell_type": "code",
   "execution_count": 39,
   "id": "fe3a3642",
   "metadata": {},
   "outputs": [
    {
     "name": "stdout",
     "output_type": "stream",
     "text": [
      "New average for COMMUNICATION genre: 3603485.39\n"
     ]
    }
   ],
   "source": [
    "under_100M = []\n",
    "\n",
    "for app in android_final:\n",
    "    no_install = app[5]\n",
    "    no_install = no_install.replace('+', '')\n",
    "    no_install = no_install.replace(',', '')\n",
    "    \n",
    "    if(app[1] == 'COMMUNICATION') and (float(no_install) < 100000000):\n",
    "        under_100M.append(float(no_install))\n",
    "        \n",
    "avg_under_100M = round(sum(under_100M) / len(under_100M), 2)\n",
    "print('New average for COMMUNICATION genre:', avg_under_100M)"
   ]
  },
  {
   "cell_type": "markdown",
   "id": "d3ee2b18",
   "metadata": {},
   "source": [
    "After we reduced the extremely popular apps, the `COMMUNICATION` genre falls incredibly for the rank of most genre installed. Now the most genre installed is `VIDEO_PLAYERS` and `SOCIAL`, with number of installs of 24M and 23M respectively.\n",
    "\n",
    "But we suspect similar situation is occurring on `VIDEO_PLAYERS` and `SOCIAL` genres, so let's check them out first."
   ]
  },
  {
   "cell_type": "code",
   "execution_count": 43,
   "id": "b58077f9",
   "metadata": {},
   "outputs": [
    {
     "name": "stdout",
     "output_type": "stream",
     "text": [
      "Extremely popular apps in VIDEO_PLAYERS genre:\n",
      "YouTube :  1,000,000,000+\n",
      "Motorola Gallery :  100,000,000+\n",
      "VLC for Android :  100,000,000+\n",
      "Google Play Movies & TV :  1,000,000,000+\n",
      "MX Player :  500,000,000+\n",
      "Dubsmash :  100,000,000+\n",
      "VivaVideo - Video Editor & Photo Movie :  100,000,000+\n",
      "VideoShow-Video Editor, Video Maker, Beauty Camera :  100,000,000+\n",
      "Motorola FM Radio :  100,000,000+\n",
      "\n",
      "\n",
      "Extremely popular apps in SOCIAL genre:\n",
      "Facebook :  1,000,000,000+\n",
      "Facebook Lite :  500,000,000+\n",
      "Tumblr :  100,000,000+\n",
      "Pinterest :  100,000,000+\n",
      "Google+ :  1,000,000,000+\n",
      "Badoo - Free Chat & Dating App :  100,000,000+\n",
      "Tango - Live Video Broadcast :  100,000,000+\n",
      "Instagram :  1,000,000,000+\n",
      "Snapchat :  500,000,000+\n",
      "LinkedIn :  100,000,000+\n",
      "Tik Tok - including musical.ly :  100,000,000+\n",
      "BIGO LIVE - Live Stream :  100,000,000+\n",
      "VK :  100,000,000+\n"
     ]
    }
   ],
   "source": [
    "print('Extremely popular apps in VIDEO_PLAYERS genre:')\n",
    "for app in android_final:\n",
    "    if(app[1] == 'VIDEO_PLAYERS') and ((app[5] == '1,000,000,000+') or (app[5] == '500,000,000+') or (app[5] == '100,000,000+')):\n",
    "        print(app[0], ': ', app[5])\n",
    "        \n",
    "print('\\n')\n",
    "print('Extremely popular apps in SOCIAL genre:')\n",
    "for app in android_final:\n",
    "    if(app[1] == 'SOCIAL') and ((app[5] == '1,000,000,000+') or (app[5] == '500,000,000+') or (app[5] == '100,000,000+')):\n",
    "        print(app[0], ': ', app[5])"
   ]
  },
  {
   "cell_type": "markdown",
   "id": "718f96a9",
   "metadata": {},
   "source": [
    "So we found out that similar situation is also occurs in `VIDEO_PLAYER` and `SOCIAL` genres. Both are highly dominated by big players such as Facebook, Google, Instagram, Youtube, etc. And after we remove them, the `VIDEO_PLAYER` and `SOCIAL` doesn't have much popularity for the small players. \n",
    "\n",
    "The `GAME` category is extremely popular too, with 15M number of installs. But as we mentioned during analysis on App Store, the market is saturated by the 'fun' apps, including game, entertainment, and hobby genres. The situation might be different between Google Play and App Store, but would like to avoid providing different genre recommendation for each market. And that means we also need to drop the `TRAVEL_AND_LOCAL` category, even if it has fairly high number of install."
   ]
  },
  {
   "cell_type": "markdown",
   "id": "522db2b6",
   "metadata": {},
   "source": [
    "## 4. Conclusion\n",
    "To determine what kind of mobile app we will develop, we have analyzed the apps profiles on two big market, Google Play and App Store, to find out which genre that most likely attracts users.\n",
    "\n",
    "So after the process of elimination, especially on those genres that have been dominated by big players, we recommend to develop an app in `Reference` genre (or `BOOKS_AND_REFERENCE` in Google Play). The Reference apps have fairly high popularity on both platform but does not dominated by some companies, so we will have a feasible competition in this genre. We will need to show off unique features of our apps to stand out more in this genre.\n",
    "\n",
    "Other option is in `Education` genre with the same reason as above."
   ]
  }
 ],
 "metadata": {
  "kernelspec": {
   "display_name": "Python 3 (ipykernel)",
   "language": "python",
   "name": "python3"
  },
  "language_info": {
   "codemirror_mode": {
    "name": "ipython",
    "version": 3
   },
   "file_extension": ".py",
   "mimetype": "text/x-python",
   "name": "python",
   "nbconvert_exporter": "python",
   "pygments_lexer": "ipython3",
   "version": "3.9.7"
  }
 },
 "nbformat": 4,
 "nbformat_minor": 5
}
