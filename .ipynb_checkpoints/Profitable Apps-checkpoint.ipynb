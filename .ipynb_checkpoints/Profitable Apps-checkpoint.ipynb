{
 "cells": [
  {
   "cell_type": "markdown",
   "id": "a45b9b8d",
   "metadata": {},
   "source": [
    "# Profitable Apps in Google Play and App Store\n",
    "As of September 2018, there were approximately 2 million iOS apps available on the App Store, and 2.1 million Android apps on Google Play. See chart below for comparison across 5 different marketplace for apps.\n",
    "\n",
    "![App statistics](py1m8_statista.png)"
   ]
  },
  {
   "cell_type": "markdown",
   "id": "ac63e7a3",
   "metadata": {},
   "source": [
    "## 1. Exploring the data  \n",
    "First, let's open our datasets. Currently we already have data of the number of apps on Google Play and App Store."
   ]
  },
  {
   "cell_type": "code",
   "execution_count": 1,
   "id": "55f2e897",
   "metadata": {},
   "outputs": [],
   "source": [
    "from csv import reader\n",
    "\n",
    "# This is the dataset for App Store\n",
    "opened_file = open('AppleStore.csv', encoding='utf8')\n",
    "read_file = reader(opened_file)\n",
    "ios = list(read_file)\n",
    "ios_header = ios[0]\n",
    "ios = ios[1:]\n",
    "\n",
    "# This is the dataset for Google Play\n",
    "opened_file = open('googleplaystore.csv', encoding='utf8')\n",
    "read_file = reader(opened_file)\n",
    "android = list(read_file)\n",
    "android_header = android[0]\n",
    "android = android[1:]"
   ]
  },
  {
   "cell_type": "markdown",
   "id": "4f85a7de",
   "metadata": {},
   "source": [
    "Build a function so we can easily read and explore the data. A small preview from App Store dataset is shown."
   ]
  },
  {
   "cell_type": "code",
   "execution_count": 2,
   "id": "56187ba6",
   "metadata": {},
   "outputs": [
    {
     "name": "stdout",
     "output_type": "stream",
     "text": [
      "['id', 'track_name', 'size_bytes', 'currency', 'price', 'rating_count_tot', 'rating_count_ver', 'user_rating', 'user_rating_ver', 'ver', 'cont_rating', 'prime_genre', 'sup_devices.num', 'ipadSc_urls.num', 'lang.num', 'vpp_lic']\n",
      "\n",
      "\n",
      "['284882215', 'Facebook', '389879808', 'USD', '0.0', '2974676', '212', '3.5', '3.5', '95.0', '4+', 'Social Networking', '37', '1', '29', '1']\n",
      "\n",
      "\n",
      "['389801252', 'Instagram', '113954816', 'USD', '0.0', '2161558', '1289', '4.5', '4.0', '10.23', '12+', 'Photo & Video', '37', '0', '29', '1']\n",
      "\n",
      "\n",
      "Number of rows: 7197\n",
      "Number of columns: 16\n"
     ]
    }
   ],
   "source": [
    "def explore_data(dataset, start, end, rows_and_columns=False):\n",
    "    dataset_slice = dataset[start:end]\n",
    "    \n",
    "    for row in dataset_slice:\n",
    "        print(row)\n",
    "        print('\\n') # adds a new (empty) line after each row\n",
    "        \n",
    "    if rows_and_columns:\n",
    "        print('Number of rows:', len(dataset))\n",
    "        print('Number of columns:', len(dataset[0]))\n",
    "        \n",
    "print(ios_header)\n",
    "print('\\n')\n",
    "explore_data(ios, 0, 2 ,True)"
   ]
  },
  {
   "cell_type": "markdown",
   "id": "2d733e61",
   "metadata": {},
   "source": [
    "From preview of App Store above, we identified several attributes that may be useful for our analysis, such as: **track_name**, **price**, **rating_count_tot**, **user_rating**, and **prime_genre**.  \n",
    "\n",
    "Now, let's see what's on Google Play Store dataset."
   ]
  },
  {
   "cell_type": "code",
   "execution_count": 3,
   "id": "0b6c2ba9",
   "metadata": {},
   "outputs": [
    {
     "name": "stdout",
     "output_type": "stream",
     "text": [
      "['App', 'Category', 'Rating', 'Reviews', 'Size', 'Installs', 'Type', 'Price', 'Content Rating', 'Genres', 'Last Updated', 'Current Ver', 'Android Ver']\n",
      "\n",
      "\n",
      "['Photo Editor & Candy Camera & Grid & ScrapBook', 'ART_AND_DESIGN', '4.1', '159', '19M', '10,000+', 'Free', '0', 'Everyone', 'Art & Design', 'January 7, 2018', '1.0.0', '4.0.3 and up']\n",
      "\n",
      "\n",
      "['Coloring book moana', 'ART_AND_DESIGN', '3.9', '967', '14M', '500,000+', 'Free', '0', 'Everyone', 'Art & Design;Pretend Play', 'January 15, 2018', '2.0.0', '4.0.3 and up']\n",
      "\n",
      "\n",
      "Number of rows: 10841\n",
      "Number of columns: 13\n"
     ]
    }
   ],
   "source": [
    "print(android_header)\n",
    "print('\\n')\n",
    "explore_data(android, 0, 2, True)"
   ]
  },
  {
   "cell_type": "markdown",
   "id": "3c01132d",
   "metadata": {},
   "source": [
    "In Play Store, we determine that **App**, **Category**, **Rating**, **Reviews**, **Price**, and **Genre** will be useful for our analysis."
   ]
  },
  {
   "cell_type": "markdown",
   "id": "ba0ca28c",
   "metadata": {},
   "source": [
    "## 2. Cleaning the Data\n",
    "In this section, we clean the data first before further analyze them. This section will be broken down into several subsections. \n",
    "\n",
    "### 2.1 Deleting wrong data\n",
    "\n",
    "Refer to the [one of the discussion](https://www.kaggle.com/lava18/google-play-store-apps/discussion/66015) on Google Play data set, there is a report of an error in row 10472. We have to confirm this error first:"
   ]
  },
  {
   "cell_type": "code",
   "execution_count": 4,
   "id": "1b381924",
   "metadata": {},
   "outputs": [
    {
     "name": "stdout",
     "output_type": "stream",
     "text": [
      "['App', 'Category', 'Rating', 'Reviews', 'Size', 'Installs', 'Type', 'Price', 'Content Rating', 'Genres', 'Last Updated', 'Current Ver', 'Android Ver'] \n",
      "\n",
      "Error occurs in row:  10472 \n",
      "\n",
      "Preview: \n",
      " ['Life Made WI-Fi Touchscreen Photo Frame', '1.9', '19', '3.0M', '1,000+', 'Free', '0', 'Everyone', '', 'February 11, 2018', '1.0.19', '4.0 and up']\n"
     ]
    }
   ],
   "source": [
    "print(android_header, '\\n')\n",
    "for row in android:\n",
    "    if len(row) != len(android_header):\n",
    "        print('Error occurs in row: ', android.index(row), '\\n')\n",
    "        print('Preview:', '\\n', row)"
   ]
  },
  {
   "cell_type": "markdown",
   "id": "45f5614d",
   "metadata": {},
   "source": [
    "Result above shows that there is indeed an error in row 10472, since the lenght of the row does not match the lenght of header.  After further investigation, it turns out the data missing 'Category' column, because the value is very unlikely to be '1.9', this value is shifted from the adjacent column as a result of missing 'Category' column.  \n",
    "\n",
    "Therefore, we will delete this row:"
   ]
  },
  {
   "cell_type": "code",
   "execution_count": 5,
   "id": "c99fa291",
   "metadata": {},
   "outputs": [],
   "source": [
    "del android[10472] \n",
    "# Careful not to run this command more than one"
   ]
  },
  {
   "cell_type": "markdown",
   "id": "b88127ac",
   "metadata": {},
   "source": [
    "Let's apply similar process to check the App Store dataset."
   ]
  },
  {
   "cell_type": "code",
   "execution_count": 6,
   "id": "8d20aadb",
   "metadata": {},
   "outputs": [
    {
     "name": "stdout",
     "output_type": "stream",
     "text": [
      "No error detected\n"
     ]
    }
   ],
   "source": [
    "for row in ios:\n",
    "    flag = 0\n",
    "    if len(row) != len(ios_header):\n",
    "        print('Error occurs in row: ', android.index(row), '\\n')\n",
    "        print('Preview:', '\\n', row)\n",
    "        flag = 1\n",
    "\n",
    "if flag == 0:\n",
    "    print('No error detected')"
   ]
  },
  {
   "cell_type": "markdown",
   "id": "cbbd6b71",
   "metadata": {},
   "source": [
    "We did not find any error on the App Store dataset. We can continue to the next step of data cleaning process."
   ]
  },
  {
   "cell_type": "markdown",
   "id": "ac5d7ea3",
   "metadata": {},
   "source": [
    "### 2.2 Removing duplicate entries\n",
    "This time we will check each dataset for duplicate entries, meaning the same app/information are mentioned several times in the dataset."
   ]
  },
  {
   "cell_type": "code",
   "execution_count": 7,
   "id": "7ded4049",
   "metadata": {},
   "outputs": [
    {
     "name": "stdout",
     "output_type": "stream",
     "text": [
      "No of duplicates:  1181 \n",
      "\n",
      "['Quick PDF Scanner + OCR FREE', 'Box', 'Google My Business', 'ZOOM Cloud Meetings']\n"
     ]
    }
   ],
   "source": [
    "duplicate_apps_android = []\n",
    "unique_apps_android = []\n",
    "\n",
    "for app in android:\n",
    "    name = app[0]\n",
    "    if name in unique_apps_android:\n",
    "        duplicate_apps_android.append(name)\n",
    "    else:\n",
    "        unique_apps_android.append(name)\n",
    "        \n",
    "print('No of duplicates: ', len(duplicate_apps_android), '\\n')\n",
    "print(duplicate_apps_android[:4])"
   ]
  },
  {
   "cell_type": "markdown",
   "id": "a737bf6e",
   "metadata": {},
   "source": [
    "Now we know there are 1181 duplicates in Google Play dataset. Let's check using similar command for duplicates in App Store."
   ]
  },
  {
   "cell_type": "code",
   "execution_count": 8,
   "id": "a470cb48",
   "metadata": {},
   "outputs": [
    {
     "name": "stdout",
     "output_type": "stream",
     "text": [
      "No of duplicates:  0 \n",
      "\n",
      "[]\n"
     ]
    }
   ],
   "source": [
    "duplicate_apps_ios = []\n",
    "unique_apps_ios = []\n",
    "\n",
    "for app_id in ios:\n",
    "    name = app_id[0]\n",
    "    if name in unique_apps_ios:\n",
    "        duplicate_apps_ios.append(name)\n",
    "    else:\n",
    "        unique_apps_ios.append(name)\n",
    "        \n",
    "print('No of duplicates: ', len(duplicate_apps_ios), '\\n')\n",
    "print(duplicate_apps_ios[:4])"
   ]
  },
  {
   "cell_type": "markdown",
   "id": "195f04c9",
   "metadata": {},
   "source": [
    "The result shows that there is no duplicate entry on App Store dataset. We checked for each apps that have same id.  \n",
    "\n",
    "Next we have to remove the duplicates on Google Play, and retaining only single data for each duplicates. We won't randomly pick which one of the duplicates will be retained, instead we will pick the one which the latest entry. This can be identified by choosing the data which have the most number of reviews.\n",
    "\n",
    "To do that, we will:\n",
    "- Create a dictionary where each key is a unique app name, and the value is the highest number of reviews of that app\n",
    "- Use the dictionary to create new dataset, which will have only one entry per app\n",
    "\n",
    "First, we build the dictionary:"
   ]
  },
  {
   "cell_type": "code",
   "execution_count": 9,
   "id": "74263c8e",
   "metadata": {},
   "outputs": [
    {
     "name": "stdout",
     "output_type": "stream",
     "text": [
      "9659\n",
      "9659\n"
     ]
    }
   ],
   "source": [
    "reviews_max = {}\n",
    "\n",
    "for app in android:\n",
    "    name = app[0]\n",
    "    n_reviews = float(app[3])\n",
    "    if name in reviews_max and reviews_max[name] < n_reviews:\n",
    "        reviews_max[name] = n_reviews\n",
    "    elif name not in reviews_max:\n",
    "        reviews_max[name] = n_reviews\n",
    "        \n",
    "print(len(reviews_max))\n",
    "print(len(android) - len(duplicate_apps_android))"
   ]
  },
  {
   "cell_type": "markdown",
   "id": "7a509143",
   "metadata": {},
   "source": [
    "We have build the dictionary and verify that its lenght matches the expected lenght of Google Play dataset, after we remove the duplicates. The expected length should be the current length substracted by the number of duplicates.\n",
    "\n",
    "Now, after we have dictionary `reviews_max`, we can build our new dataset which only contains unique apps.\n",
    "\n",
    "We loop through the `android` dataset and in each iteration we check the number of reviews and compare it to `reviews_max`. If it matches, then we append the data to our new dataset `android_clean`.\n",
    "\n",
    "In details, we do this in the code below:\n",
    "- create two lists, `android_clean` which will be our new dataset, and `already_added` which will help us identify whether the app has been added to `android_clean` or not,\n",
    "- iterate for each row in `android` dataset,\n",
    "- obtain the app name (index 0), and assign it to variable `name`,\n",
    "- obtain the number of reviews (index 3), and assign it to variable `n_reviews`,\n",
    "- set if condition, and append the row if `n_review` matches the corresponding value in `reviews_max` list we build in previous step. Also only if the app has not been added to `already_added` list.\n",
    "\n",
    "Then we test by printing the length of our new dataset. Expected lenght should be 9659."
   ]
  },
  {
   "cell_type": "code",
   "execution_count": 10,
   "id": "cb99b669",
   "metadata": {},
   "outputs": [
    {
     "name": "stdout",
     "output_type": "stream",
     "text": [
      "Our new dataset length:  9659\n"
     ]
    }
   ],
   "source": [
    "android_clean = []\n",
    "already_added = []\n",
    "\n",
    "for app in android:\n",
    "    name = app[0]\n",
    "    n_reviews = float(app[3])\n",
    "    if (n_reviews == reviews_max[name]) and (name not in already_added):\n",
    "        android_clean.append(app)\n",
    "        already_added.append(name)\n",
    "        \n",
    "print('Our new dataset length: ', len(android_clean))"
   ]
  },
  {
   "cell_type": "markdown",
   "id": "2ac16ef7",
   "metadata": {},
   "source": [
    "The length of our new dataset is verified."
   ]
  },
  {
   "cell_type": "markdown",
   "id": "a92918da",
   "metadata": {},
   "source": [
    "### 2.3 Removing non-English app\n",
    "In this project, we limit our analysis only for the apps which designed for English-speaking audience. So we will have to check our datasets for non-English language, and remove them from our dataset.\n",
    "\n",
    "To do this, we have to check for the app name that contains symbols no commonly used in English text. Using build-in function `ord()`, we able to obtain the corresponding number for each character. And according to ASCII (American Standard Code for Information Interchange), characters used in English text correspond to number in range between 0 to 127. Therefore, we should check for app name on our datasets and if we find character number beyond the range of 0 to 127, then most likely that app is not in English languange.\n",
    "\n",
    "To easily reuse the checking command, we build a function `is_english` which takes in string command and return `True` if the input text is in English, and `False` otherwise. To strengthen our function, we only classify the string as non-English if it contains three or more characters which number above 127, so even if there is emoji or other single non-common symbol in the string, our function still classify is as English text."
   ]
  },
  {
   "cell_type": "code",
   "execution_count": 15,
   "id": "521d4237",
   "metadata": {
    "scrolled": true
   },
   "outputs": [
    {
     "name": "stdout",
     "output_type": "stream",
     "text": [
      "True\n",
      "False\n",
      "True\n",
      "True\n"
     ]
    }
   ],
   "source": [
    "def is_english(string):\n",
    "    count = 0 # Counter to record how many non-English character detected\n",
    "    for character in string:\n",
    "        if (ord(character) > 127):\n",
    "            count += 1\n",
    "            if count > 3:\n",
    "                return False\n",
    "    return True\n",
    "\n",
    "# Test the function\n",
    "print(is_english('Instagram'))\n",
    "print(is_english('爱奇艺PPS -《欢乐颂2》电视剧热播'))\n",
    "print(is_english('Docs To Go™ Free Office Suite'))\n",
    "print(is_english('Instachat 😜'))"
   ]
  },
  {
   "cell_type": "markdown",
   "id": "08627809",
   "metadata": {},
   "source": []
  },
  {
   "cell_type": "code",
   "execution_count": 16,
   "id": "53c8c497",
   "metadata": {},
   "outputs": [
    {
     "name": "stdout",
     "output_type": "stream",
     "text": [
      "Google Play dataset length:  9614\n",
      "App Store dataset length:  6183\n"
     ]
    }
   ],
   "source": [
    "android_english = []\n",
    "ios_english = []\n",
    "\n",
    "for app in android_clean:\n",
    "    name = app[0]\n",
    "    if (is_english(name)):\n",
    "        android_english.append(app)\n",
    "\n",
    "for app in ios:\n",
    "    name = app[1]  # For ios, the app name is under column 'track_name' (index 1)\n",
    "    if (is_english(name)):\n",
    "        ios_english.append(app)\n",
    "    \n",
    "print('Google Play dataset length: ', len(android_english))\n",
    "print('App Store dataset length: ', len(ios_english))"
   ]
  },
  {
   "cell_type": "code",
   "execution_count": null,
   "id": "55fb3d12",
   "metadata": {},
   "outputs": [],
   "source": []
  }
 ],
 "metadata": {
  "kernelspec": {
   "display_name": "Python 3 (ipykernel)",
   "language": "python",
   "name": "python3"
  },
  "language_info": {
   "codemirror_mode": {
    "name": "ipython",
    "version": 3
   },
   "file_extension": ".py",
   "mimetype": "text/x-python",
   "name": "python",
   "nbconvert_exporter": "python",
   "pygments_lexer": "ipython3",
   "version": "3.9.7"
  }
 },
 "nbformat": 4,
 "nbformat_minor": 5
}
